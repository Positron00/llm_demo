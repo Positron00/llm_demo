{
 "cells": [
  {
   "cell_type": "markdown",
   "id": "5dbd474a-ce79-4816-9cd2-310c3dca5ec2",
   "metadata": {},
   "source": [
    "This Jupyter Notebook allows various tests of the llm_demo sandbox"
   ]
  },
  {
   "cell_type": "code",
   "execution_count": null,
   "id": "210a1ac9-805f-4289-a2cb-787b1bde5fa2",
   "metadata": {},
   "outputs": [],
   "source": []
  }
 ],
 "metadata": {
  "kernelspec": {
   "display_name": "llm",
   "language": "python",
   "name": "llm"
  },
  "language_info": {
   "codemirror_mode": {
    "name": "ipython",
    "version": 3
   },
   "file_extension": ".py",
   "mimetype": "text/x-python",
   "name": "python",
   "nbconvert_exporter": "python",
   "pygments_lexer": "ipython3",
   "version": "3.12.2"
  }
 },
 "nbformat": 4,
 "nbformat_minor": 5
}
