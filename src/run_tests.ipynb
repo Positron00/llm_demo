{
 "cells": [
  {
   "cell_type": "markdown",
   "id": "5dbd474a-ce79-4816-9cd2-310c3dca5ec2",
   "metadata": {},
   "source": [
    "This Jupyter Notebook allows various tests of the llm_demo sandbox"
   ]
  },
  {
   "cell_type": "code",
   "execution_count": 1,
   "id": "210a1ac9-805f-4289-a2cb-787b1bde5fa2",
   "metadata": {},
   "outputs": [
    {
     "name": "stdout",
     "output_type": "stream",
     "text": [
      "In-context learning using device:  cpu\n",
      "Fine-tuning using device:  cpu\n"
     ]
    }
   ],
   "source": [
    "import tests"
   ]
  },
  {
   "cell_type": "code",
   "execution_count": 2,
   "id": "fb2ed7f0",
   "metadata": {},
   "outputs": [
    {
     "name": "stderr",
     "output_type": "stream",
     "text": [
      "If you want to use `BertLMHeadModel` as a standalone, add `is_decoder=True.`\n",
      "/Users/danc/anaconda3/envs/llm/lib/python3.12/site-packages/transformers/tokenization_utils_base.py:1617: FutureWarning: `clean_up_tokenization_spaces` was not set. It will be set to `True` by default. This behavior will be deprecated in transformers v4.45, and will be then set to `False` by default. For more details check this issue: https://github.com/huggingface/transformers/issues/31884\n",
      "  warnings.warn(\n"
     ]
    },
    {
     "name": "stdout",
     "output_type": "stream",
     "text": [
      "42\n"
     ]
    }
   ],
   "source": [
    "test_ftparams = tests.Test_ft_params()\n",
    "test_ftparams.test()"
   ]
  },
  {
   "cell_type": "code",
   "execution_count": null,
   "id": "5d82c8ac",
   "metadata": {},
   "outputs": [],
   "source": [
    "# finetuning entire models\n",
    "\n",
    "# test finetuing all parameters of bert-tiny with k=1\n",
    "!python3 main.py --task run_ft --model bert-tiny --dataset amazon --k 1"
   ]
  }
 ],
 "metadata": {
  "kernelspec": {
   "display_name": "llm",
   "language": "python",
   "name": "llm"
  },
  "language_info": {
   "codemirror_mode": {
    "name": "ipython",
    "version": 3
   },
   "file_extension": ".py",
   "mimetype": "text/x-python",
   "name": "python",
   "nbconvert_exporter": "python",
   "pygments_lexer": "ipython3",
   "version": "3.12.2"
  }
 },
 "nbformat": 4,
 "nbformat_minor": 5
}
