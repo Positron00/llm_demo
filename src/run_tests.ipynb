{
 "cells": [
  {
   "cell_type": "markdown",
   "id": "5dbd474a-ce79-4816-9cd2-310c3dca5ec2",
   "metadata": {},
   "source": [
    "This Jupyter Notebook allows various tests of the llm_demo sandbox"
   ]
  },
  {
   "cell_type": "code",
   "execution_count": 1,
   "id": "210a1ac9-805f-4289-a2cb-787b1bde5fa2",
   "metadata": {},
   "outputs": [
    {
     "name": "stdout",
     "output_type": "stream",
     "text": [
      "In-context learning using device:  cpu\n",
      "Fine-tuning using device:  cpu\n"
     ]
    }
   ],
   "source": [
    "import tests"
   ]
  },
  {
   "cell_type": "code",
   "execution_count": 2,
   "id": "fb2ed7f0",
   "metadata": {},
   "outputs": [
    {
     "name": "stderr",
     "output_type": "stream",
     "text": [
      "If you want to use `BertLMHeadModel` as a standalone, add `is_decoder=True.`\n",
      "/Users/danc/anaconda3/envs/llm/lib/python3.12/site-packages/transformers/tokenization_utils_base.py:1617: FutureWarning: `clean_up_tokenization_spaces` was not set. It will be set to `True` by default. This behavior will be deprecated in transformers v4.45, and will be then set to `False` by default. For more details check this issue: https://github.com/huggingface/transformers/issues/31884\n",
      "  warnings.warn(\n",
      "Some weights of BertForSequenceClassification were not initialized from the model checkpoint at prajjwal1/bert-tiny and are newly initialized: ['classifier.bias', 'classifier.weight']\n",
      "You should probably TRAIN this model on a down-stream task to be able to use it for predictions and inference.\n",
      "If you want to use `BertLMHeadModel` as a standalone, add `is_decoder=True.`\n"
     ]
    },
    {
     "name": "stdout",
     "output_type": "stream",
     "text": [
      "42\n"
     ]
    }
   ],
   "source": [
    "test_ftparams = tests.Test_ft_params()\n",
    "test_ftparams.setUp()\n",
    "test_ftparams.test()"
   ]
  },
  {
   "cell_type": "code",
   "execution_count": null,
   "id": "5d82c8ac",
   "metadata": {},
   "outputs": [],
   "source": [
    "# finetuning entire models\n",
    "\n",
    "# test finetuing all parameters of bert-tiny with k=1\n",
    "!python3 main.py --task run_ft --model bert-tiny --dataset amazon --k 1\n",
    "\n",
    "# test finetuning multiple models with a range of k values, can take several hours on cpu\n",
    "!python3 main.py --task run_ft --model bert-tiny,bert-med --dataset amazon --k 1,8,128\n",
    "\n",
    "# plot finetuning results\n",
    "!python3 main.py --task plot_ft --model bert-tiny,bert-med --dataset amazon --k 1,8,128"
   ]
  },
  {
   "cell_type": "code",
   "execution_count": 5,
   "id": "e53bbb1c",
   "metadata": {},
   "outputs": [
    {
     "name": "stdout",
     "output_type": "stream",
     "text": [
      "Prompt formats are all good!\n"
     ]
    },
    {
     "name": "stderr",
     "output_type": "stream",
     "text": [
      "/Users/danc/anaconda3/envs/llm/lib/python3.12/site-packages/transformers/tokenization_utils_base.py:1617: FutureWarning: `clean_up_tokenization_spaces` was not set. It will be set to `True` by default. This behavior will be deprecated in transformers v4.45, and will be then set to `False` by default. For more details check this issue: https://github.com/huggingface/transformers/issues/31884\n",
      "  warnings.warn(\n"
     ]
    }
   ],
   "source": [
    "test_icl = tests.Test_icl()\n",
    "test_icl.setUp()\n",
    "#test_icl.test_customPrompt_format()\n",
    "#test_icl.test_do_sample()\n",
    "test_icl.test_allPrompts_format()"
   ]
  },
  {
   "cell_type": "code",
   "execution_count": null,
   "id": "95da2369",
   "metadata": {},
   "outputs": [],
   "source": []
  },
  {
   "cell_type": "code",
   "execution_count": null,
   "id": "bd60fd46",
   "metadata": {},
   "outputs": [],
   "source": []
  }
 ],
 "metadata": {
  "kernelspec": {
   "display_name": "llm",
   "language": "python",
   "name": "llm"
  },
  "language_info": {
   "codemirror_mode": {
    "name": "ipython",
    "version": 3
   },
   "file_extension": ".py",
   "mimetype": "text/x-python",
   "name": "python",
   "nbconvert_exporter": "python",
   "pygments_lexer": "ipython3",
   "version": "3.12.2"
  }
 },
 "nbformat": 4,
 "nbformat_minor": 5
}
